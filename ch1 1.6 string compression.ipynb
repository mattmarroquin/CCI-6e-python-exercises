{
 "cells": [
  {
   "cell_type": "code",
   "execution_count": 60,
   "metadata": {},
   "outputs": [],
   "source": [
    "# String Compression: Implement a method to perform basic string compression using the counts\n",
    "# of repeated characters. For example, the string aabcccccaaa would become a2b1c5a3. If the\n",
    "# \"compressed\" string would not become smaller than the original string, your method should return\n",
    "# the original string. You can assume the string has only uppercase and lowercase letters (a - z).\n",
    "\n",
    "#assuming that strings can have repeated characters that aren't adjacent to each other\n",
    "def strCompress(s):  \n",
    "    #use ASCII code to count characters in the string one at a time from the beginning\n",
    "    occurances = [0 for _ in range(256)]\n",
    "    for c in s:\n",
    "        char_code = ord(c)\n",
    "        occurances[char_code] += 1\n",
    "    \n",
    "    #count uppercase characters\n",
    "    upperString = ''\n",
    "    for upper in range(65, 91):\n",
    "        if occurances[upper] == 0:\n",
    "            continue\n",
    "        upperString = upperString + str(chr(upper)) + str(occurances[upper])\n",
    "    \n",
    "    #count lowercase characters\n",
    "    lowerString = ''\n",
    "    for lower in range(97, 123):\n",
    "        if occurances[lower] == 0:\n",
    "            continue\n",
    "        lowerString = lowerString + str(chr(lower)) + str(occurances[lower])\n",
    "    \n",
    "    #combine upper and lower case output strings\n",
    "    outputString = upperString + lowerString\n",
    "    print(outputString)\n"
   ]
  },
  {
   "cell_type": "code",
   "execution_count": 61,
   "metadata": {},
   "outputs": [
    {
     "name": "stdout",
     "output_type": "stream",
     "text": [
      "A7a1\n"
     ]
    }
   ],
   "source": [
    "strCompress('aAAAAAAA')"
   ]
  },
  {
   "cell_type": "code",
   "execution_count": 62,
   "metadata": {},
   "outputs": [
    {
     "name": "stdout",
     "output_type": "stream",
     "text": [
      "A9B1D1E1G2H3I3O2P2S1W1a3b2d1e1h1i2j1o4p2s2w1\n"
     ]
    }
   ],
   "source": [
    "strCompress('aAAAAAAAweapjboispaoboisdhoAIGHPAOSDIHBPOIEHGW')"
   ]
  },
  {
   "cell_type": "code",
   "execution_count": 64,
   "metadata": {},
   "outputs": [
    {
     "name": "stdout",
     "output_type": "stream",
     "text": [
      "A7B3Z1a1b3z1\n"
     ]
    }
   ],
   "source": [
    "strCompress('aAAAAAAABBBbbbzZ')"
   ]
  },
  {
   "cell_type": "code",
   "execution_count": 65,
   "metadata": {},
   "outputs": [
    {
     "name": "stdout",
     "output_type": "stream",
     "text": [
      "A7B3Z1a1b3z1\n"
     ]
    }
   ],
   "source": [
    "strCompress('aAAAAAA ABBBbbbzZ')"
   ]
  },
  {
   "cell_type": "code",
   "execution_count": 66,
   "metadata": {},
   "outputs": [
    {
     "name": "stdout",
     "output_type": "stream",
     "text": [
      "A7B3Z1a1b3z1\n"
     ]
    }
   ],
   "source": [
    "strCompress('aAAA A A A A                    BBBbbbzZ')"
   ]
  },
  {
   "cell_type": "code",
   "execution_count": null,
   "metadata": {},
   "outputs": [],
   "source": []
  }
 ],
 "metadata": {
  "kernelspec": {
   "display_name": "Python 3",
   "language": "python",
   "name": "python3"
  },
  "language_info": {
   "codemirror_mode": {
    "name": "ipython",
    "version": 3
   },
   "file_extension": ".py",
   "mimetype": "text/x-python",
   "name": "python",
   "nbconvert_exporter": "python",
   "pygments_lexer": "ipython3",
   "version": "3.6.5"
  }
 },
 "nbformat": 4,
 "nbformat_minor": 2
}
