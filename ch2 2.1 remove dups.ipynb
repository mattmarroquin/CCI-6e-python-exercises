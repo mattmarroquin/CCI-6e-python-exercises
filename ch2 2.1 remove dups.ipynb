{
 "cells": [
  {
   "cell_type": "code",
   "execution_count": 31,
   "metadata": {},
   "outputs": [],
   "source": [
    "%run LL.ipynb"
   ]
  },
  {
   "cell_type": "code",
   "execution_count": 32,
   "metadata": {},
   "outputs": [],
   "source": [
    "def rmDup(l):\n",
    "    if l.head == None:\n",
    "        return print(\"empty list\")\n",
    "    \n",
    "    current_node = l.head\n",
    "    while current_node:\n",
    "        probe = current_node\n",
    "        \n",
    "        if probe.next == None:\n",
    "            break\n",
    "        while probe.next:\n",
    "            if probe.next.value == current_node.value:\n",
    "                probe.next = probe.next.next\n",
    "            else:\n",
    "                probe = probe.next\n",
    "            if current_node.next == None:\n",
    "                break\n",
    "        current_node = current_node.next\n",
    "    return l"
   ]
  },
  {
   "cell_type": "code",
   "execution_count": 33,
   "metadata": {},
   "outputs": [
    {
     "name": "stdout",
     "output_type": "stream",
     "text": [
      "3 -> 6 -> 6 -> 10 -> 6 -> 10 -> 2 -> 1 -> 7 -> 1 -> 9 -> 4 -> 1 -> 9 -> 3 -> 5 -> 2 -> 2 -> 4 -> 8\n"
     ]
    }
   ],
   "source": [
    "ll = LinkedList()\n",
    "ll.generate(20,1,10)\n",
    "print(ll)"
   ]
  },
  {
   "cell_type": "code",
   "execution_count": 34,
   "metadata": {},
   "outputs": [
    {
     "name": "stdout",
     "output_type": "stream",
     "text": [
      "3 -> 6 -> 10 -> 2 -> 1 -> 7 -> 9 -> 4 -> 5 -> 8\n"
     ]
    }
   ],
   "source": [
    "rmDup(ll)\n",
    "print(ll)"
   ]
  },
  {
   "cell_type": "code",
   "execution_count": 35,
   "metadata": {},
   "outputs": [
    {
     "name": "stdout",
     "output_type": "stream",
     "text": [
      "5 -> 4 -> 9 -> 3 -> 7 -> 7 -> 7 -> 1 -> 1 -> 8 -> 2 -> 5 -> 7 -> 2 -> 4 -> 10 -> 4 -> 9 -> 3 -> 1\n"
     ]
    }
   ],
   "source": [
    "ll2 = LinkedList()\n",
    "ll2.generate(20,1,10)\n",
    "print(ll2)"
   ]
  },
  {
   "cell_type": "code",
   "execution_count": 36,
   "metadata": {},
   "outputs": [
    {
     "name": "stdout",
     "output_type": "stream",
     "text": [
      "5 -> 4 -> 9 -> 3 -> 7 -> 1 -> 8 -> 2 -> 10\n"
     ]
    }
   ],
   "source": [
    "rmDup(ll2)\n",
    "print(ll2)"
   ]
  },
  {
   "cell_type": "code",
   "execution_count": 37,
   "metadata": {},
   "outputs": [
    {
     "name": "stdout",
     "output_type": "stream",
     "text": [
      "7 -> 8 -> 3 -> 3 -> 10 -> 8 -> 9 -> 10 -> 7 -> 10 -> 10 -> 4 -> 10 -> 9 -> 3 -> 7 -> 3 -> 5 -> 3 -> 9 -> 5 -> 5 -> 4 -> 7 -> 5 -> 8 -> 3 -> 6 -> 5 -> 7 -> 5 -> 7 -> 3 -> 10 -> 9 -> 7 -> 9 -> 3 -> 7 -> 5 -> 10 -> 3 -> 5 -> 4 -> 4 -> 7 -> 9 -> 7 -> 7 -> 3 -> 10 -> 10 -> 4 -> 6 -> 10 -> 5 -> 10 -> 3 -> 6 -> 4 -> 8 -> 6 -> 10 -> 7 -> 3 -> 4 -> 6 -> 5 -> 3 -> 3 -> 10 -> 5 -> 8 -> 8 -> 4 -> 9 -> 4 -> 10 -> 5 -> 10 -> 8 -> 6 -> 7 -> 6 -> 5 -> 10 -> 7 -> 10 -> 4 -> 8 -> 4 -> 6 -> 9 -> 9 -> 7 -> 7 -> 6 -> 5 -> 4 -> 8 -> 3 -> 8 -> 5 -> 5 -> 4 -> 8 -> 3 -> 5 -> 5 -> 9 -> 7 -> 9 -> 5 -> 7 -> 3 -> 6 -> 6 -> 6 -> 8 -> 7 -> 9 -> 3 -> 9 -> 5 -> 4 -> 5 -> 10 -> 7 -> 8 -> 7 -> 6 -> 3 -> 5 -> 3 -> 4 -> 3 -> 9 -> 9 -> 3 -> 8 -> 9 -> 8 -> 4 -> 7 -> 8 -> 9 -> 7 -> 3 -> 3 -> 8 -> 4 -> 8 -> 9 -> 10 -> 7 -> 6 -> 4 -> 6 -> 10 -> 9 -> 6 -> 10 -> 7 -> 6 -> 8 -> 9 -> 9 -> 7 -> 9 -> 4 -> 10 -> 7 -> 4 -> 9 -> 8 -> 9 -> 7 -> 4 -> 8 -> 10 -> 8 -> 10 -> 10 -> 6 -> 4 -> 8 -> 3 -> 9 -> 9 -> 4 -> 6 -> 8 -> 6 -> 6 -> 3 -> 9 -> 3 -> 6 -> 7 -> 6\n",
      "\n",
      "7 -> 8 -> 3 -> 10 -> 9 -> 4 -> 5 -> 6\n"
     ]
    }
   ],
   "source": [
    "ll3 = LinkedList()\n",
    "ll3.generate(200,3,10)\n",
    "print(ll3)\n",
    "rmDup(ll3)\n",
    "print()\n",
    "print(ll3)"
   ]
  },
  {
   "cell_type": "code",
   "execution_count": 38,
   "metadata": {},
   "outputs": [
    {
     "name": "stdout",
     "output_type": "stream",
     "text": [
      "empty list\n"
     ]
    }
   ],
   "source": [
    "ll4 = LinkedList()\n",
    "rmDup(ll4)"
   ]
  },
  {
   "cell_type": "code",
   "execution_count": 39,
   "metadata": {},
   "outputs": [
    {
     "name": "stdout",
     "output_type": "stream",
     "text": [
      "empty list\n"
     ]
    }
   ],
   "source": [
    "ll5 = LinkedList()\n",
    "ll3.generate(0,0,0)\n",
    "rmDup(ll5)"
   ]
  },
  {
   "cell_type": "code",
   "execution_count": null,
   "metadata": {},
   "outputs": [],
   "source": []
  }
 ],
 "metadata": {
  "kernelspec": {
   "display_name": "Python 3",
   "language": "python",
   "name": "python3"
  },
  "language_info": {
   "codemirror_mode": {
    "name": "ipython",
    "version": 3
   },
   "file_extension": ".py",
   "mimetype": "text/x-python",
   "name": "python",
   "nbconvert_exporter": "python",
   "pygments_lexer": "ipython3",
   "version": "3.6.5"
  }
 },
 "nbformat": 4,
 "nbformat_minor": 2
}
