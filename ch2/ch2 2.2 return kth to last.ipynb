{
 "cells": [
  {
   "cell_type": "code",
   "execution_count": 57,
   "metadata": {},
   "outputs": [],
   "source": [
    "%run LL.ipynb"
   ]
  },
  {
   "cell_type": "code",
   "execution_count": 69,
   "metadata": {},
   "outputs": [],
   "source": [
    "import sys\n",
    "\n",
    "#assuming number of nodes is known and passsed\n",
    "def getKth(l, k, num_nodes):\n",
    "    if l.head == None:\n",
    "        return print(\"empty list\")\n",
    "    \n",
    "    target_node = num_nodes - k\n",
    "    \n",
    "    current_node = l.head    \n",
    "    for i in range(target_node):\n",
    "        current_node = current_node.next\n",
    "    print(current_node)"
   ]
  },
  {
   "cell_type": "code",
   "execution_count": 70,
   "metadata": {},
   "outputs": [
    {
     "name": "stdout",
     "output_type": "stream",
     "text": [
      "9 -> 6 -> 4 -> 6 -> 5 -> 2 -> 6 -> 4 -> 9 -> 5 -> 2 -> 2 -> 9 -> 3 -> 5 -> 5 -> 2 -> 7 -> 3 -> 6\n"
     ]
    }
   ],
   "source": [
    "ll = LinkedList()\n",
    "ll.generate(20,1,10)\n",
    "print(ll)"
   ]
  },
  {
   "cell_type": "code",
   "execution_count": 71,
   "metadata": {},
   "outputs": [
    {
     "name": "stdout",
     "output_type": "stream",
     "text": [
      "7\n"
     ]
    }
   ],
   "source": [
    "getKth(ll, 3, 20)"
   ]
  },
  {
   "cell_type": "code",
   "execution_count": 72,
   "metadata": {},
   "outputs": [
    {
     "name": "stdout",
     "output_type": "stream",
     "text": [
      "6\n"
     ]
    }
   ],
   "source": [
    "getKth(ll, 19, 20)"
   ]
  },
  {
   "cell_type": "code",
   "execution_count": null,
   "metadata": {},
   "outputs": [],
   "source": []
  }
 ],
 "metadata": {
  "kernelspec": {
   "display_name": "Python 3",
   "language": "python",
   "name": "python3"
  },
  "language_info": {
   "codemirror_mode": {
    "name": "ipython",
    "version": 3
   },
   "file_extension": ".py",
   "mimetype": "text/x-python",
   "name": "python",
   "nbconvert_exporter": "python",
   "pygments_lexer": "ipython3",
   "version": "3.6.5"
  }
 },
 "nbformat": 4,
 "nbformat_minor": 2
}
