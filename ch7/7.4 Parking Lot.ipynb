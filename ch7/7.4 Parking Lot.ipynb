{
 "cells": [
  {
   "cell_type": "code",
   "execution_count": 1,
   "id": "f6c4e6bf",
   "metadata": {},
   "outputs": [],
   "source": [
    "#class Parkinglot(ParkingSpace):\n",
    "class Parkinglot():\n",
    "    def __init__(self, numCarSpaces=0, numHandicapSpaces=0, numMotorcycleSpaces=0):\n",
    "        self.numCarSpaces = numCarSpaces\n",
    "        self.numHandicapSpaces = numHandicapSpaces\n",
    "        self.numMotorcycleSpaces = numMotorcycleSpaces\n",
    "    def __str__(self):\n",
    "        return str(self.value)\n",
    "    \n",
    "    #other necessary Parkinglot specific"
   ]
  },
  {
   "cell_type": "code",
   "execution_count": 3,
   "id": "d66a4fa4",
   "metadata": {},
   "outputs": [],
   "source": [
    "class ParkingSpace():\n",
    "    def __init__(self, parkingSpaceID, vehicleID='Vehicle ID not provided'):\n",
    "        self.parkingSpaceID = parkingSpaceID\n",
    "        self.vehicleID = vehicleID\n",
    "        \n",
    "    #def getParkingSpaceStatus(parkingSpaceID):\n",
    "        #check if a parking space is empty\n",
    "        \n",
    "    #def setStatus(parkingSpaceID):\n",
    "        #set parking space to occupied or vacant\n",
    "        \n",
    "    #other parkingspace functions"
   ]
  },
  {
   "cell_type": "code",
   "execution_count": null,
   "id": "94e2b9de",
   "metadata": {},
   "outputs": [],
   "source": [
    "class Permit():\n",
    "    "
   ]
  }
 ],
 "metadata": {
  "kernelspec": {
   "display_name": "Python 3",
   "language": "python",
   "name": "python3"
  },
  "language_info": {
   "codemirror_mode": {
    "name": "ipython",
    "version": 3
   },
   "file_extension": ".py",
   "mimetype": "text/x-python",
   "name": "python",
   "nbconvert_exporter": "python",
   "pygments_lexer": "ipython3",
   "version": "3.6.5"
  }
 },
 "nbformat": 4,
 "nbformat_minor": 5
}
