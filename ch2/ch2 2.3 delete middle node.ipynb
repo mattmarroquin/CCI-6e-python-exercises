{
 "cells": [
  {
   "cell_type": "code",
   "execution_count": 112,
   "metadata": {},
   "outputs": [],
   "source": [
    "%run LL.ipynb"
   ]
  },
  {
   "cell_type": "code",
   "execution_count": 124,
   "metadata": {},
   "outputs": [],
   "source": [
    "#delete node n where n is an integer >=1 starting at the second node in the list\n",
    "\n",
    "def dmn(l, n, list_size):\n",
    "    if l.head == None:\n",
    "        return print(\"empty list\")   \n",
    "    if n == 0:\n",
    "        return print(\"can't delete first node\")\n",
    "    if n+1 == list_size:\n",
    "        return print(\"can't delete last node\")\n",
    "    if n+1 > list_size:\n",
    "        return print(\"target node out of list range\")\n",
    "    if n < 0:\n",
    "        return print(\"target node out of list range\")\n",
    "        \n",
    "    \n",
    "    current_node = l.head\n",
    "    \n",
    "    for i in range(n-1):\n",
    "        if current_node.next == None:\n",
    "            break\n",
    "        current_node = current_node.next\n",
    "        \n",
    "    current_node.next = current_node.next.next\n",
    "        \n",
    "    return l "
   ]
  },
  {
   "cell_type": "code",
   "execution_count": 125,
   "metadata": {},
   "outputs": [
    {
     "name": "stdout",
     "output_type": "stream",
     "text": [
      "1 -> 6 -> 2 -> 3 -> 1\n"
     ]
    }
   ],
   "source": [
    "ll = LinkedList()\n",
    "ll.generate(5,1,10)\n",
    "print(ll)"
   ]
  },
  {
   "cell_type": "code",
   "execution_count": 127,
   "metadata": {},
   "outputs": [
    {
     "name": "stdout",
     "output_type": "stream",
     "text": [
      "1 -> 6 -> 2 -> 1\n"
     ]
    }
   ],
   "source": [
    "dmn(ll, 3, 5)\n",
    "print(ll)"
   ]
  },
  {
   "cell_type": "code",
   "execution_count": null,
   "metadata": {},
   "outputs": [],
   "source": []
  }
 ],
 "metadata": {
  "kernelspec": {
   "display_name": "Python 3",
   "language": "python",
   "name": "python3"
  },
  "language_info": {
   "codemirror_mode": {
    "name": "ipython",
    "version": 3
   },
   "file_extension": ".py",
   "mimetype": "text/x-python",
   "name": "python",
   "nbconvert_exporter": "python",
   "pygments_lexer": "ipython3",
   "version": "3.6.5"
  }
 },
 "nbformat": 4,
 "nbformat_minor": 2
}
