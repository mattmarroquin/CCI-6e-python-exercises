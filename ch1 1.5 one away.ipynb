{
 "cells": [
  {
   "cell_type": "code",
   "execution_count": 108,
   "metadata": {},
   "outputs": [],
   "source": [
    "# 1.5 One Away: There are three types of edits that can be performed on strings: insert a character,\n",
    "# remove a character, or replace a character. Given two strings, write a function to check if they are\n",
    "# one edit (or zero edits) away.\n",
    "# EXAMPLE\n",
    "# pale, pIe -> true\n",
    "# pales. pale -> true\n",
    "# pale. bale -> true\n",
    "# pale. bake -> false\n",
    "\n",
    "\n",
    "import itertools\n",
    "\n",
    "def isOneAway(original, edit):\n",
    "    diffTotal = 0  #keep track of number of edits\n",
    "    count = 0      #iteration tracker variable\n",
    "    \n",
    "    for oChar, eChar in itertools.zip_longest(original,edit):\n",
    "        if diffTotal > 1:\n",
    "            return False\n",
    "        \n",
    "        if oChar == eChar:\n",
    "            count += 1\n",
    "            continue\n",
    "            \n",
    "        #check for a single removed character\n",
    "        if oChar != eChar:\n",
    "            #preventing out of bounds index error\n",
    "            try:\n",
    "                originalNext = original[count+1]\n",
    "            except IndexError:\n",
    "                originalNext = original[count]\n",
    "            \n",
    "            if eChar == originalNext:\n",
    "                count += 1\n",
    "                continue\n",
    "            diffTotal += 1\n",
    "        \n",
    "        #check for a single additional character\n",
    "        if oChar == None or eChar == None: \n",
    "            diffTotal += 1\n",
    "            \n",
    "        count += 1\n",
    "        \n",
    "    return True"
   ]
  },
  {
   "cell_type": "code",
   "execution_count": 109,
   "metadata": {},
   "outputs": [
    {
     "data": {
      "text/plain": [
       "True"
      ]
     },
     "execution_count": 109,
     "metadata": {},
     "output_type": "execute_result"
    }
   ],
   "source": [
    "isOneAway(\"pale\", \"ple\")"
   ]
  },
  {
   "cell_type": "code",
   "execution_count": 110,
   "metadata": {},
   "outputs": [
    {
     "data": {
      "text/plain": [
       "True"
      ]
     },
     "execution_count": 110,
     "metadata": {},
     "output_type": "execute_result"
    }
   ],
   "source": [
    "isOneAway(\"pales\", \"pale\")"
   ]
  },
  {
   "cell_type": "code",
   "execution_count": 111,
   "metadata": {},
   "outputs": [
    {
     "data": {
      "text/plain": [
       "True"
      ]
     },
     "execution_count": 111,
     "metadata": {},
     "output_type": "execute_result"
    }
   ],
   "source": [
    "isOneAway(\"pale\", \"bale\")"
   ]
  },
  {
   "cell_type": "code",
   "execution_count": 112,
   "metadata": {},
   "outputs": [
    {
     "data": {
      "text/plain": [
       "False"
      ]
     },
     "execution_count": 112,
     "metadata": {},
     "output_type": "execute_result"
    }
   ],
   "source": [
    "isOneAway(\"pale\", \"bake\")"
   ]
  },
  {
   "cell_type": "code",
   "execution_count": 113,
   "metadata": {},
   "outputs": [
    {
     "data": {
      "text/plain": [
       "False"
      ]
     },
     "execution_count": 113,
     "metadata": {},
     "output_type": "execute_result"
    }
   ],
   "source": [
    "isOneAway(\"paleee\", \"bale\")"
   ]
  },
  {
   "cell_type": "code",
   "execution_count": null,
   "metadata": {},
   "outputs": [],
   "source": []
  }
 ],
 "metadata": {
  "kernelspec": {
   "display_name": "Python 3",
   "language": "python",
   "name": "python3"
  },
  "language_info": {
   "codemirror_mode": {
    "name": "ipython",
    "version": 3
   },
   "file_extension": ".py",
   "mimetype": "text/x-python",
   "name": "python",
   "nbconvert_exporter": "python",
   "pygments_lexer": "ipython3",
   "version": "3.6.5"
  }
 },
 "nbformat": 4,
 "nbformat_minor": 2
}
