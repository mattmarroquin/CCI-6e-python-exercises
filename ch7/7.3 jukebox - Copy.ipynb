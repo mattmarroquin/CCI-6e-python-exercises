{
 "cells": [
  {
   "cell_type": "code",
   "execution_count": 18,
   "metadata": {},
   "outputs": [],
   "source": [
    "#class Jukebox(Selector, paymentModule):\n",
    "class Jukebox():\n",
    "    def __init__(self, recordSet, price):\n",
    "        self.recordSet = recordSet\n",
    "        self.price = price\n",
    "    def __str__(self):\n",
    "        return str(self.value)\n",
    "    \n",
    "    #other necessary Jukebox specific "
   ]
  },
  {
   "cell_type": "code",
   "execution_count": 19,
   "metadata": {},
   "outputs": [],
   "source": [
    "class RecordSet:\n",
    "    def __init__(self, setName, records):\n",
    "        self.setName = setName\n",
    "        self.records = records\n",
    "        \n",
    "    def recordExists(record):\n",
    "        if record in records:\n",
    "            return True\n",
    "        else:\n",
    "            return False\n",
    "    \n",
    "    #def addRecord(record):\n",
    "        #add record to the recordset\n",
    "    \n",
    "    #other recordset functions"
   ]
  },
  {
   "cell_type": "code",
   "execution_count": 20,
   "metadata": {},
   "outputs": [],
   "source": [
    "import sys\n",
    "\n",
    "class Selector(RecordSet):\n",
    "    def getRecordSelection():\n",
    "        recordSelection = raw_input(\"Enter record selection: \")\n",
    "        validInput = recordExists(recordSelection) \n",
    "        if validInput: \n",
    "            print (\"Playing record...\")\n",
    "        else:\n",
    "            print (\"Record does not exist. Select another record: \")\n",
    "            recordSelection = raw_input()\n",
    "    \n",
    "    #def search(recordName):\n",
    "        #search record set for a record\n",
    "        #return records with a similar or exact name\n",
    "        \n",
    "    #other select functions\n",
    "            "
   ]
  },
  {
   "cell_type": "code",
   "execution_count": 21,
   "metadata": {},
   "outputs": [],
   "source": [
    "#class paymentModule(playRecordPrice):\n",
    "class paymentModule():\n",
    "    def __init__(self, playRecordPrice):\n",
    "        self.playRecordPrice = playRecordPrice\n",
    "    \n",
    "    #def pay(inputAmount):\n",
    "        #check if payment is adequate\n",
    "        #refund if necessary\n",
    "        #otherwise prompt for more money\n",
    "        \n",
    "    #other paymentModule functions"
   ]
  }
 ],
 "metadata": {
  "kernelspec": {
   "display_name": "Python 3",
   "language": "python",
   "name": "python3"
  },
  "language_info": {
   "codemirror_mode": {
    "name": "ipython",
    "version": 3
   },
   "file_extension": ".py",
   "mimetype": "text/x-python",
   "name": "python",
   "nbconvert_exporter": "python",
   "pygments_lexer": "ipython3",
   "version": "3.6.5"
  }
 },
 "nbformat": 4,
 "nbformat_minor": 2
}
