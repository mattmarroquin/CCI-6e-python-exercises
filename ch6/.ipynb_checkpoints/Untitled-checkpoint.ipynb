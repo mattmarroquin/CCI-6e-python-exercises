{
 "cells": [
  {
   "cell_type": "code",
   "execution_count": 1,
   "metadata": {},
   "outputs": [],
   "source": [
    "# The Heavy Pill: You have 20 bottles of pills. 19 bottles have 1.0 gram pills, but one has pills of weight\n",
    "# 1.1 grams. Given a scale that provides an exact measurement, how would you find the heavy bottle?\n",
    "# You can only use the scale once."
   ]
  },
  {
   "cell_type": "code",
   "execution_count": 68,
   "metadata": {},
   "outputs": [
    {
     "name": "stdout",
     "output_type": "stream",
     "text": [
      "bottle0 is the bottle with the 1.1g pills\n"
     ]
    }
   ],
   "source": [
    "import random as r\n",
    "\n",
    "\n",
    "bottles = { 'bottle0': { 'pill_count': r.randint(1,500), 'pill_weight': 1.0 },\n",
    "            'bottle1': { 'pill_count': r.randint(1,500), 'pill_weight': 1.0 },\n",
    "            'bottle2': { 'pill_count': r.randint(1,500), 'pill_weight': 1.0 },\n",
    "            'bottle3': { 'pill_count': r.randint(1,500), 'pill_weight': 1.0 },\n",
    "            'bottle4': { 'pill_count': r.randint(1,500), 'pill_weight': 1.0 },\n",
    "            'bottle5': { 'pill_count': r.randint(1,500), 'pill_weight': 1.0 },\n",
    "            'bottle6': { 'pill_count': r.randint(1,500), 'pill_weight': 1.0 },\n",
    "            'bottle7': { 'pill_count': r.randint(1,500), 'pill_weight': 1.0 },\n",
    "            'bottle8': { 'pill_count': r.randint(1,500), 'pill_weight': 1.0 },\n",
    "            'bottle9': { 'pill_count': r.randint(1,500), 'pill_weight': 1.0 }\n",
    "          }\n",
    "\n",
    "heavy_bottle = (r.choice(list(bottles.values())))\n",
    "heavy_bottle['pill_weight'] = 1.1\n",
    "\n",
    "pill_total = 0\n",
    "for i in range(len(list(bottles))):\n",
    "    pills = 1 + i \n",
    "    pill_total += (pills * bottles['bottle'+str(i)]['pill_weight'])\n",
    "    if pill_total%1 != 0:\n",
    "        print('bottle'+str(i) + ' is the bottle with the 1.1g pills')\n",
    "        break"
   ]
  }
 ],
 "metadata": {
  "kernelspec": {
   "display_name": "Python 3",
   "language": "python",
   "name": "python3"
  },
  "language_info": {
   "codemirror_mode": {
    "name": "ipython",
    "version": 3
   },
   "file_extension": ".py",
   "mimetype": "text/x-python",
   "name": "python",
   "nbconvert_exporter": "python",
   "pygments_lexer": "ipython3",
   "version": "3.6.5"
  }
 },
 "nbformat": 4,
 "nbformat_minor": 2
}
